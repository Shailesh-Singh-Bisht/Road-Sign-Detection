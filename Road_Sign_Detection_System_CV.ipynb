{
  "cells": [
    {
      "cell_type": "code",
      "execution_count": null,
      "metadata": {
        "colab": {
          "base_uri": "https://localhost:8080/"
        },
        "id": "CPQDD2w3QcvL",
        "outputId": "71e4aa50-6960-44bc-d2be-ba28d9a26ea4"
      },
      "outputs": [],
      "source": [
        "import os               #Checking if Google Collab GPU is enabled or not\n",
        "\n",
        "if 'COLAB_GPU' in os.environ:\n",
        "  print(\"GPU IS enabled\")\n",
        "else:\n",
        "  print(\"GPU IS not enabled\")"
      ]
    },
    {
      "cell_type": "markdown",
      "metadata": {
        "id": "k3QDqtgwR33V"
      },
      "source": [
        "**INSTALL YOLO-8 Model**"
      ]
    },
    {
      "cell_type": "code",
      "execution_count": null,
      "metadata": {
        "colab": {
          "base_uri": "https://localhost:8080/"
        },
        "collapsed": true,
        "id": "533qo6DqR__s",
        "outputId": "07165ae9-1e84-4d73-e8b6-031c369dcf82"
      },
      "outputs": [],
      "source": [
        "!pip install ultralytics==8.0.20        #Install YOLOv8 Model from ultralytics"
      ]
    },
    {
      "cell_type": "markdown",
      "metadata": {
        "id": "cPYBZNBGSIok"
      },
      "source": [
        "**Check If YOLO-8 has been installed properly or not**"
      ]
    },
    {
      "cell_type": "code",
      "execution_count": null,
      "metadata": {
        "colab": {
          "base_uri": "https://localhost:8080/"
        },
        "id": "KLUkJsdbSLAd",
        "outputId": "37ec5de1-5d81-4139-8402-7dcd647b080d"
      },
      "outputs": [],
      "source": [
        "import ultralytics\n",
        "\n",
        "ultralytics.checks()"
      ]
    },
    {
      "cell_type": "markdown",
      "metadata": {
        "id": "JLJTdZruSWjG"
      },
      "source": [
        "**Import Dataset from Roboflow**"
      ]
    },
    {
      "cell_type": "code",
      "execution_count": null,
      "metadata": {
        "colab": {
          "base_uri": "https://localhost:8080/",
          "height": 36
        },
        "id": "6lBdSR0uSaaX",
        "outputId": "49c64827-1622-495b-ffb0-71bf8d9c5adb"
      },
      "outputs": [],
      "source": [
        "%pwd"
      ]
    },
    {
      "cell_type": "code",
      "execution_count": 5,
      "metadata": {
        "id": "XIqwoPUsSk1J"
      },
      "outputs": [],
      "source": [
        "!mkdir RoadSignDetection"
      ]
    },
    {
      "cell_type": "code",
      "execution_count": null,
      "metadata": {
        "colab": {
          "base_uri": "https://localhost:8080/"
        },
        "id": "964YVxJ2Sn_J",
        "outputId": "bd6fbfcf-c03b-42b9-800e-8ccc8118ba53"
      },
      "outputs": [],
      "source": [
        "!ls"
      ]
    },
    {
      "cell_type": "code",
      "execution_count": null,
      "metadata": {
        "colab": {
          "base_uri": "https://localhost:8080/",
          "height": 36
        },
        "id": "bwou9EqwSsVB",
        "outputId": "b14cac83-cded-4e30-dc23-15fc87438887"
      },
      "outputs": [],
      "source": [
        "%pwd"
      ]
    },
    {
      "cell_type": "code",
      "execution_count": 9,
      "metadata": {
        "id": "eh7EQps9SwAS"
      },
      "outputs": [],
      "source": [
        "os.chdir(\"/content/RoadSignDetection\")"
      ]
    },
    {
      "cell_type": "code",
      "execution_count": null,
      "metadata": {
        "colab": {
          "base_uri": "https://localhost:8080/",
          "height": 36
        },
        "id": "zqRdK4W3S61r",
        "outputId": "ffb877f5-5f0c-4e21-9331-fd479c367f16"
      },
      "outputs": [],
      "source": [
        "os.chdir(\"/content/RoadSignDetection\")"
      ]
    },
    {
      "cell_type": "code",
      "execution_count": null,
      "metadata": {
        "colab": {
          "base_uri": "https://localhost:8080/"
        },
        "collapsed": true,
        "id": "Ps_oK61DTYgo",
        "outputId": "27b58b75-aa33-481b-b95b-30cd8bd59587"
      },
      "outputs": [],
      "source": [
        "!pip install roboflow           #Downaloding a Roboflow dataset for training \n",
        "\n",
        "from roboflow import Roboflow\n",
        "rf = Roboflow(api_key=\"nMR2Q9F9mEqqrp9XinBk\")\n",
        "project = rf.workspace(\"selfdriving-car-qtywx\").project(\"self-driving-cars-lfjou\")\n",
        "version = project.version(6)\n",
        "dataset = version.download(\"yolov8\")\n"
      ]
    },
    {
      "cell_type": "markdown",
      "metadata": {
        "id": "WLkq3PE2Tow6"
      },
      "source": [
        "**Training The YOLOv8 Over A Custom Dataset**"
      ]
    },
    {
      "cell_type": "code",
      "execution_count": 12,
      "metadata": {
        "id": "QpYs6uJkTueb"
      },
      "outputs": [],
      "source": [
        "os.chdir(\"/content/RoadSignDetection/Self-Driving-Cars-6\")"
      ]
    },
    {
      "cell_type": "code",
      "execution_count": null,
      "metadata": {
        "colab": {
          "base_uri": "https://localhost:8080/",
          "height": 36
        },
        "id": "PwQPifgjUG-N",
        "outputId": "b77c9bf5-018d-46d9-c6ee-c00bdafb75cf"
      },
      "outputs": [],
      "source": [
        "%pwd"
      ]
    },
    {
      "cell_type": "code",
      "execution_count": null,
      "metadata": {
        "colab": {
          "base_uri": "https://localhost:8080/"
        },
        "collapsed": true,
        "id": "p_-WfcjKUJI2",
        "outputId": "67943b53-1d1d-4a3f-d1a5-b6d003a49db9"
      },
      "outputs": [],
      "source": [
        "!yolo task=detect mode=train model=yolov8n.pt data=/content/RoadSignDetection/Self-Driving-Cars-6/data.yaml epochs=10 imgsz=640 batch=16"
      ]
    },
    {
      "cell_type": "markdown",
      "metadata": {
        "id": "5e_jbeNdX03V"
      },
      "source": [
        "**Display Some Of The Content We Obtained**"
      ]
    },
    {
      "cell_type": "code",
      "execution_count": null,
      "metadata": {
        "colab": {
          "base_uri": "https://localhost:8080/"
        },
        "id": "3J_3Ys3eX8Tm",
        "outputId": "f46a6b97-9b32-4654-aeaa-9da00c6ca470"
      },
      "outputs": [],
      "source": [
        "!ls '/content/RoadSignDetection/Self-Driving-Cars-6/runs/detect/train/weights'"
      ]
    },
    {
      "cell_type": "code",
      "execution_count": null,
      "metadata": {
        "colab": {
          "base_uri": "https://localhost:8080/"
        },
        "id": "-oriLYE1YD7f",
        "outputId": "99e35f8b-8492-481f-b716-f373afbcd027"
      },
      "outputs": [],
      "source": [
        "!ls '/content/RoadSignDetection/Self-Driving-Cars-6/runs/detect/train'"
      ]
    },
    {
      "cell_type": "code",
      "execution_count": null,
      "metadata": {
        "colab": {
          "base_uri": "https://localhost:8080/",
          "height": 851
        },
        "id": "NZ6jwEuHYI8P",
        "outputId": "c8c73fcf-d703-4022-a994-20867d7ef23f"
      },
      "outputs": [],
      "source": [
        "resultData=\"/content/RoadSignDetection/Self-Driving-Cars-6/runs/detect/train/\"\n",
        "\n",
        "from IPython.display import Image, display\n",
        "\n",
        "Image(filename = f'{resultData}confusion_matrix.png')"
      ]
    },
    {
      "cell_type": "code",
      "execution_count": null,
      "metadata": {
        "colab": {
          "base_uri": "https://localhost:8080/",
          "height": 573
        },
        "id": "sabdKwG1Yapp",
        "outputId": "061c1faa-3ea5-49ed-8d57-f931c3a4b490"
      },
      "outputs": [],
      "source": [
        "Image(filename = f'{resultData}results.png')"
      ]
    },
    {
      "cell_type": "code",
      "execution_count": null,
      "metadata": {
        "colab": {
          "base_uri": "https://localhost:8080/"
        },
        "id": "u2Vi1CNyYfaC",
        "outputId": "f46d2fdd-0edb-4633-e3e0-6f5b2bbd10d6"
      },
      "outputs": [],
      "source": [
        "import pandas as pd\n",
        "\n",
        "df=pd.read_csv(f'{resultData}results.csv')\n",
        "\n",
        "print(df.head(3))"
      ]
    },
    {
      "cell_type": "code",
      "execution_count": null,
      "metadata": {
        "colab": {
          "base_uri": "https://localhost:8080/"
        },
        "id": "TCmFJJFMYhyj",
        "outputId": "710d02fc-c33f-414d-f472-e7c809ce5717"
      },
      "outputs": [],
      "source": [
        "import pandas as pd\n",
        "\n",
        "df=pd.read_csv(f'{resultData}results.csv')\n",
        "\n",
        "print(df.tail(1))"
      ]
    },
    {
      "cell_type": "markdown",
      "metadata": {
        "id": "hOXUZWmYYo0k"
      },
      "source": [
        "**Test your model on any arbitary video containing road signs**"
      ]
    },
    {
      "cell_type": "code",
      "execution_count": null,
      "metadata": {
        "colab": {
          "base_uri": "https://localhost:8080/",
          "height": 36
        },
        "id": "rLRvClDnYpmE",
        "outputId": "5def8fbc-b92b-4384-915c-ed78617d49ef"
      },
      "outputs": [],
      "source": [
        "%pwd"
      ]
    },
    {
      "cell_type": "code",
      "execution_count": 24,
      "metadata": {
        "id": "7Y9cT3iSYvLk"
      },
      "outputs": [],
      "source": [
        "os.chdir(\"/content\")"
      ]
    },
    {
      "cell_type": "code",
      "execution_count": null,
      "metadata": {
        "colab": {
          "base_uri": "https://localhost:8080/",
          "height": 36
        },
        "id": "KPwYxOqmY2FO",
        "outputId": "2b508fce-8359-4f8b-8d8f-9840b0d80b72"
      },
      "outputs": [],
      "source": [
        "%pwd"
      ]
    },
    {
      "cell_type": "code",
      "execution_count": 26,
      "metadata": {
        "id": "mpXDGXx7ZBew"
      },
      "outputs": [],
      "source": [
        "!mkdir ManualTestingData"
      ]
    },
    {
      "cell_type": "code",
      "execution_count": 27,
      "metadata": {
        "id": "fqUVVkv-ZFVA"
      },
      "outputs": [],
      "source": [
        "os.chdir(\"/content/ManualTestingData\")"
      ]
    },
    {
      "cell_type": "code",
      "execution_count": null,
      "metadata": {
        "colab": {
          "base_uri": "https://localhost:8080/",
          "height": 36
        },
        "id": "_2SgKH7dZHqo",
        "outputId": "1ddf6d10-bfc3-43ad-b98c-22a4da975e22"
      },
      "outputs": [],
      "source": [
        "%pwd"
      ]
    },
    {
      "cell_type": "code",
      "execution_count": null,
      "metadata": {
        "colab": {
          "base_uri": "https://localhost:8080/"
        },
        "collapsed": true,
        "id": "j7Sx8YJ_aM_J",
        "outputId": "8597cada-2ef4-41c4-8aff-63984a04559a"
      },
      "outputs": [],
      "source": [
        "weightsPath=\"/content/RoadSignDetection/Self-Driving-Cars-6/runs/detect/train/weights\"    #Make sure your uploaded video is at same directory as mentioned here\n",
        "\n",
        "!yolo task=detect mode=predict model={weightsPath}/best.pt conf=.25 source='/content/ManualTestingData/InputVideo.mp4' save=True"
      ]
    },
    {
      "cell_type": "markdown",
      "metadata": {
        "id": "olgh-qxZalu9"
      },
      "source": [
        "**Downalod The Predicted Output**"
      ]
    },
    {
      "cell_type": "code",
      "execution_count": null,
      "metadata": {
        "colab": {
          "base_uri": "https://localhost:8080/",
          "height": 17
        },
        "id": "XLI_XIzyaomW",
        "outputId": "5a9c32fd-94cc-40fd-fe2a-095df40f675f"
      },
      "outputs": [],
      "source": [
        "from google.colab import files\n",
        "\n",
        "files.download('/content/ManualTestingData/runs/detect/predict/InputVideo.mp4')"
      ]
    }
  ],
  "metadata": {
    "accelerator": "GPU",
    "colab": {
      "gpuType": "T4",
      "provenance": []
    },
    "kernelspec": {
      "display_name": "Python 3",
      "name": "python3"
    },
    "language_info": {
      "name": "python"
    }
  },
  "nbformat": 4,
  "nbformat_minor": 0
}
